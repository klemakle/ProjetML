{
 "cells": [
  {
   "cell_type": "markdown",
   "metadata": {},
   "source": [
    "# SKIN CANCER CLASSIFIER"
   ]
  },
  {
   "cell_type": "code",
   "execution_count": null,
   "metadata": {},
   "outputs": [],
   "source": [
    "from glob import glob\n",
    "import numpy as np\n",
    "import matplotlib.pyplot as plt\n",
    "import pandas as pd\n",
    "\n",
    "from skimage.io import imread\n",
    "from skimage.color import rgb2grey\n",
    "from sklearn.feature_extraction import image\n",
    "from sklearn.cluster import KMeans\n",
    "from skimage.filters import rank, threshold_otsu\n",
    "from skimage.morphology import closing, square, disk\n",
    "from skimage import exposure as hist, data, img_as_float\n",
    "from skimage.segmentation import chan_vese\n",
    "from skimage.feature import canny\n",
    "from skimage.color import rgb2gray\n",
    "from scipy import ndimage as ndi "
   ]
  },
  {
   "cell_type": "code",
   "execution_count": null,
   "metadata": {},
   "outputs": [],
   "source": [
    "mal_images = glob('./data/train/malignant/*')\n",
    "ben_images = glob('./data/train/benign/*')\n",
    "#Test\n",
    "mal_images_test = glob('./data/test/malignant/*')\n",
    "ben_images_test = glob('./data/test/benign/*')"
   ]
  },
  {
   "cell_type": "code",
   "execution_count": null,
   "metadata": {},
   "outputs": [],
   "source": [
    "len(mal_images)"
   ]
  },
  {
   "cell_type": "code",
   "execution_count": null,
   "metadata": {},
   "outputs": [],
   "source": [
    "len(ben_images)"
   ]
  },
  {
   "cell_type": "code",
   "execution_count": null,
   "metadata": {},
   "outputs": [],
   "source": [
    "mal_images_1 = glob('./data/train/malignant/*')[:5]\n",
    "ben_images_1 = glob('./data/train/benign/*')[:5]"
   ]
  },
  {
   "cell_type": "code",
   "execution_count": null,
   "metadata": {},
   "outputs": [],
   "source": [
    "mal_images"
   ]
  },
  {
   "cell_type": "code",
   "execution_count": null,
   "metadata": {},
   "outputs": [],
   "source": [
    "#https://www.unioviedo.es/compnum/labs/PYTHON/intro_image.html\n",
    "\n",
    "def load_images(paths):\n",
    "    tmp = []\n",
    "    for path in paths:\n",
    "        tmp.append(imread(path))\n",
    "    return tmp\n",
    "    \n",
    "def plot_any(arr, title = ''):\n",
    "    plt.figure(figsize = (15, 25))\n",
    "    for i in range(len(arr)):\n",
    "        plt.subplot(1,len(arr),i + 1)\n",
    "        plt.title(title)\n",
    "        plt.imshow(arr[i]);\n",
    "def d2Kmeans(img, k):\n",
    "    return KMeans(n_jobs=-1, \n",
    "                  random_state=1, \n",
    "                  n_clusters = k, \n",
    "                  init='k-means++'\n",
    "    ).fit(img.reshape((-1,1))).labels_.reshape(img.shape)\n",
    "\n",
    "def mean_filter(image, raio_disk):\n",
    "    return rank.mean_percentile(image, selem = disk(raio_disk))\n",
    "\n",
    "def binary(image):\n",
    "    return image > threshold_otsu(image)"
   ]
  },
  {
   "cell_type": "code",
   "execution_count": null,
   "metadata": {},
   "outputs": [],
   "source": [
    "#data train\n",
    "mal = load_images(mal_images)\n",
    "ben = load_images(ben_images)\n",
    "\n",
    "#data test\n",
    "mal_test = load_images(mal_images_test)\n",
    "ben_test = load_images(ben_images_test)\n",
    "\n",
    "mal_1 = load_images(mal_images_1)\n",
    "ben_1 = load_images(ben_images_1)"
   ]
  },
  {
   "cell_type": "code",
   "execution_count": null,
   "metadata": {},
   "outputs": [],
   "source": [
    "plot_any(mal_1)\n",
    "plot_any(ben_1)"
   ]
  },
  {
   "cell_type": "code",
   "execution_count": null,
   "metadata": {},
   "outputs": [],
   "source": [
    "img_selected = mal[0]"
   ]
  },
  {
   "cell_type": "code",
   "execution_count": null,
   "metadata": {},
   "outputs": [],
   "source": [
    "len(img_selected[0][0])"
   ]
  },
  {
   "cell_type": "code",
   "execution_count": null,
   "metadata": {},
   "outputs": [],
   "source": [
    "len(mal)"
   ]
  },
  {
   "cell_type": "code",
   "execution_count": null,
   "metadata": {},
   "outputs": [],
   "source": [
    "plt.imshow(img_selected,cmap='hot')"
   ]
  },
  {
   "cell_type": "code",
   "execution_count": null,
   "metadata": {},
   "outputs": [],
   "source": [
    "#Train\n",
    "mal_arr = np.array(mal)\n",
    "ben_arr = np.array(ben)\n",
    "\n",
    "mal_arr_test = np.array(mal_test)\n",
    "ben_arr_test = np.array(ben_test)"
   ]
  },
  {
   "cell_type": "code",
   "execution_count": null,
   "metadata": {},
   "outputs": [],
   "source": [
    "#On creer les array labels 1 pour mal et 0 pour ben : (ben La bénignité est une condition inoffensive à long terme)\n",
    "#Data train\n",
    "target_mal = np.ones(len(mal_arr))       #1 pour malign\n",
    "target_ben = np.ones(len(ben_arr)) - 1    #0 pour benign\n",
    "#Data test\n",
    "target_mal_test = np.ones(len(mal_arr_test))       #1 pour malign\n",
    "target_ben_test = np.ones(len(ben_arr_test)) - 1    #0 pour benign\n"
   ]
  },
  {
   "cell_type": "code",
   "execution_count": null,
   "metadata": {},
   "outputs": [],
   "source": [
    "#Data train\n",
    "X_train = np.concatenate((mal_arr,ben_arr),axis=0)\n",
    "y_train = np.concatenate((target_mal,target_ben),axis=0)\n",
    "\n",
    "#Data test\n",
    "X_test = np.concatenate((mal_arr_test,ben_arr_test),axis=0)\n",
    "y_test = np.concatenate((target_mal_test,target_ben_test),axis=0)"
   ]
  },
  {
   "cell_type": "code",
   "execution_count": null,
   "metadata": {},
   "outputs": [],
   "source": [
    "len(X_train)"
   ]
  },
  {
   "cell_type": "code",
   "execution_count": null,
   "metadata": {},
   "outputs": [],
   "source": [
    "X_train.shape"
   ]
  },
  {
   "cell_type": "code",
   "execution_count": null,
   "metadata": {},
   "outputs": [],
   "source": [
    "len(y_train)"
   ]
  },
  {
   "cell_type": "code",
   "execution_count": null,
   "metadata": {},
   "outputs": [],
   "source": [
    "y_train"
   ]
  },
  {
   "cell_type": "code",
   "execution_count": null,
   "metadata": {},
   "outputs": [],
   "source": [
    "X_test.shape"
   ]
  },
  {
   "cell_type": "code",
   "execution_count": null,
   "metadata": {},
   "outputs": [],
   "source": [
    "y_test.shape"
   ]
  },
  {
   "cell_type": "markdown",
   "metadata": {},
   "source": [
    "\n",
    "# Training"
   ]
  },
  {
   "cell_type": "markdown",
   "metadata": {},
   "source": [
    "<b>1 - Using SVM without filter</b>"
   ]
  },
  {
   "cell_type": "code",
   "execution_count": null,
   "metadata": {},
   "outputs": [],
   "source": [
    "from PIL import Image\n",
    "test =  Image.open(\"2.jpg\")\n",
    "test = test.resize((28, 28))\n",
    "test = np.array(test)\n",
    "test = test.flatten()"
   ]
  },
  {
   "cell_type": "code",
   "execution_count": null,
   "metadata": {},
   "outputs": [],
   "source": [
    "test"
   ]
  },
  {
   "cell_type": "code",
   "execution_count": null,
   "metadata": {},
   "outputs": [],
   "source": [
    "targ = np.array(1)"
   ]
  },
  {
   "cell_type": "code",
   "execution_count": null,
   "metadata": {},
   "outputs": [],
   "source": [
    "def flatten_all(features):\n",
    "    imgs = []\n",
    "    for i in features:\n",
    "        imgs.append(i.flatten())\n",
    "    return np.array(imgs)\n",
    "        "
   ]
  },
  {
   "cell_type": "code",
   "execution_count": null,
   "metadata": {},
   "outputs": [],
   "source": [
    "imgs = flatten_all(X_train)"
   ]
  },
  {
   "cell_type": "code",
   "execution_count": null,
   "metadata": {},
   "outputs": [],
   "source": [
    "imgs"
   ]
  },
  {
   "cell_type": "code",
   "execution_count": null,
   "metadata": {},
   "outputs": [],
   "source": [
    "#Import svm model\n",
    "from sklearn import svm\n",
    "\n",
    "#SVM classifier\n",
    "clf = svm.SVC(kernel='linear') #kernel linear\n",
    "\n",
    "#Training\n",
    "clf.fit(imgs,y_train)"
   ]
  },
  {
   "cell_type": "code",
   "execution_count": null,
   "metadata": {},
   "outputs": [],
   "source": [
    "imgs_test = flatten_all(X_test)"
   ]
  },
  {
   "cell_type": "code",
   "execution_count": null,
   "metadata": {},
   "outputs": [],
   "source": [
    "y_pred =clf.predict(imgs_test)"
   ]
  },
  {
   "cell_type": "code",
   "execution_count": null,
   "metadata": {},
   "outputs": [],
   "source": [
    "#Calcul de la precision\n",
    "from sklearn import metrics\n",
    "print(\"Accuracy:\", metrics.accuracy_score(y_test,y_pred) )"
   ]
  },
  {
   "cell_type": "code",
   "execution_count": null,
   "metadata": {},
   "outputs": [],
   "source": [
    "#Pourcentage de tuples positifs est étiqueté comme tel\n",
    "print(\"Precision:\",metrics.precision_score(y_test, y_pred))"
   ]
  },
  {
   "cell_type": "code",
   "execution_count": null,
   "metadata": {},
   "outputs": [],
   "source": [
    "# Model Recall: Pourcentage de tuples positifs est étiqueté comme tel\n",
    "print(\"Recall:\",metrics.recall_score(y_test, y_pred))"
   ]
  },
  {
   "cell_type": "code",
   "execution_count": null,
   "metadata": {},
   "outputs": [],
   "source": [
    "metrics.confusion_matrix(y_test, y_pred)"
   ]
  },
  {
   "cell_type": "markdown",
   "metadata": {},
   "source": [
    "<b>2 -Random forest algorithm without filter</b>"
   ]
  },
  {
   "cell_type": "code",
   "execution_count": null,
   "metadata": {},
   "outputs": [],
   "source": [
    "#Import random forest classifier\n",
    "from sklearn.ensemble import RandomForestClassifier\n",
    "\n",
    "#training random Forest\n",
    "rf_model=RandomForestClassifier(n_estimators=100)\n",
    "#Fit\n",
    "rf_model.fit(imgs,y_train)"
   ]
  },
  {
   "cell_type": "code",
   "execution_count": null,
   "metadata": {},
   "outputs": [],
   "source": [
    "y_rf_pred = rf_model.predict(imgs_test)"
   ]
  },
  {
   "cell_type": "code",
   "execution_count": null,
   "metadata": {},
   "outputs": [],
   "source": [
    "#Calcul de la precision\n",
    "from sklearn import metrics\n",
    "print(\"Accuracy:\", metrics.accuracy_score(y_test,y_rf_pred) )"
   ]
  },
  {
   "cell_type": "code",
   "execution_count": null,
   "metadata": {},
   "outputs": [],
   "source": [
    "#Pourcentage de tuples positifs est étiqueté comme tel\n",
    "print(\"Precision:\",metrics.precision_score(y_test, y_rf_pred))"
   ]
  },
  {
   "cell_type": "code",
   "execution_count": null,
   "metadata": {},
   "outputs": [],
   "source": [
    "# Model Recall: Pourcentage de tuples positifs est étiqueté comme tel\n",
    "print(\"Recall:\",metrics.recall_score(y_test, y_rf_pred))"
   ]
  },
  {
   "cell_type": "markdown",
   "metadata": {},
   "source": [
    "<b>KNN without filter</b>"
   ]
  },
  {
   "cell_type": "code",
   "execution_count": null,
   "metadata": {},
   "outputs": [],
   "source": [
    "from sklearn.neighbors import KNeighborsClassifier\n",
    "model_knn = KNeighborsClassifier ( n_neighbors =5)\n",
    "model_knn.fit(imgs,y_train)"
   ]
  },
  {
   "cell_type": "code",
   "execution_count": null,
   "metadata": {},
   "outputs": [],
   "source": [
    "y_knn_pred = model_knn.predict(imgs_test)"
   ]
  },
  {
   "cell_type": "code",
   "execution_count": null,
   "metadata": {},
   "outputs": [],
   "source": [
    "#Calcul de la precision\n",
    "from sklearn import metrics\n",
    "print(\"Accuracy:\", metrics.accuracy_score(y_test,y_knn_pred) )"
   ]
  }
 ],
 "metadata": {
  "kernelspec": {
   "display_name": "Python 3",
   "language": "python",
   "name": "python3"
  },
  "language_info": {
   "codemirror_mode": {
    "name": "ipython",
    "version": 3
   },
   "file_extension": ".py",
   "mimetype": "text/x-python",
   "name": "python",
   "nbconvert_exporter": "python",
   "pygments_lexer": "ipython3",
   "version": "3.7.0"
  }
 },
 "nbformat": 4,
 "nbformat_minor": 2
}
